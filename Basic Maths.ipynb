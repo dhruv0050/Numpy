{
 "cells": [
  {
   "cell_type": "code",
   "execution_count": 2,
   "id": "79e3d748-1b1a-40d3-a567-d8a55b2e58c8",
   "metadata": {},
   "outputs": [],
   "source": [
    "import numpy as np"
   ]
  },
  {
   "cell_type": "code",
   "execution_count": 4,
   "id": "da13e5a5-5c54-4669-a43d-0d9123457baf",
   "metadata": {},
   "outputs": [],
   "source": [
    "a = np.array([1,2,3,4])"
   ]
  },
  {
   "cell_type": "code",
   "execution_count": 6,
   "id": "56290136-9b0b-420b-b95c-b2a8c8cbf548",
   "metadata": {},
   "outputs": [],
   "source": [
    "b = np.array([1,4,3,9])"
   ]
  },
  {
   "cell_type": "code",
   "execution_count": 14,
   "id": "407fd1eb-83bd-4848-9669-bc08aeeee55a",
   "metadata": {},
   "outputs": [
    {
     "name": "stdout",
     "output_type": "stream",
     "text": [
      "Cos : [ 0.54030231 -0.41614684 -0.9899925  -0.65364362]\n",
      "Sin : [ 0.84147098  0.90929743  0.14112001 -0.7568025 ]\n",
      "Tan : [ 1.55740772 -2.18503986 -0.14254654  1.15782128]\n"
     ]
    }
   ],
   "source": [
    "#Taking cos,sine,tan of all elements of a\n",
    "cos_a = np.cos(a)\n",
    "sin_a = np.sin(a)\n",
    "tan_a = np.tan(a)\n",
    "print(\"Cos :\",cos_a)\n",
    "print(\"Sin :\",sin_a)\n",
    "print(\"Tan :\",tan_a)"
   ]
  },
  {
   "cell_type": "code",
   "execution_count": 18,
   "id": "585737b1-4350-477c-98bf-07d2ada80e98",
   "metadata": {},
   "outputs": [
    {
     "name": "stdout",
     "output_type": "stream",
     "text": [
      "a*b =  [ 1  8  9 36]\n"
     ]
    }
   ],
   "source": [
    "# Array Multiplication\n",
    "print(\"a*b = \",a*b)"
   ]
  },
  {
   "cell_type": "code",
   "execution_count": 22,
   "id": "9c166337-1c3a-4a7e-bbd9-2de1deddefa2",
   "metadata": {},
   "outputs": [
    {
     "name": "stdout",
     "output_type": "stream",
     "text": [
      "Square of a:  [ 1  4  9 16]\n",
      "Cube of a:  [ 1  8 27 64]\n",
      "Root of b:  [0.5 2.  1.5 4.5]\n"
     ]
    }
   ],
   "source": [
    "#Power\n",
    "print(\"Square of a: \",a**2)\n",
    "print(\"Cube of a: \",a**3)\n",
    "print(\"Root of b: \",b**1/2)"
   ]
  },
  {
   "cell_type": "code",
   "execution_count": 26,
   "id": "8ab6e60e-e4f1-4823-99cd-92784d692244",
   "metadata": {},
   "outputs": [
    {
     "name": "stdout",
     "output_type": "stream",
     "text": [
      "Sum in a:  [3 4 5 6]\n",
      "Sum in b:  [11 14 13 19]\n",
      "Division:  [0.5 1.  1.5 2. ]\n"
     ]
    }
   ],
   "source": [
    "# Basic math operations\n",
    "print(\"Sum in a: \",a+2)\n",
    "print(\"Sum in b: \",b+10)\n",
    "print(\"Division: \",a/2)"
   ]
  },
  {
   "cell_type": "code",
   "execution_count": 28,
   "id": "babc5161-db7b-4c02-ae75-b09f7d11ff3f",
   "metadata": {},
   "outputs": [
    {
     "name": "stdout",
     "output_type": "stream",
     "text": [
      "Sum modified:  [3 4 5 6]\n",
      "Multiplication:  [30 40 50 60]\n"
     ]
    }
   ],
   "source": [
    "# Basic math operations\n",
    "a+=2\n",
    "print(\"Sum modified: \",a)\n",
    "a*=10\n",
    "print(\"Multiplication: \",a)"
   ]
  }
 ],
 "metadata": {
  "kernelspec": {
   "display_name": "Python [conda env:base] *",
   "language": "python",
   "name": "conda-base-py"
  },
  "language_info": {
   "codemirror_mode": {
    "name": "ipython",
    "version": 3
   },
   "file_extension": ".py",
   "mimetype": "text/x-python",
   "name": "python",
   "nbconvert_exporter": "python",
   "pygments_lexer": "ipython3",
   "version": "3.12.7"
  }
 },
 "nbformat": 4,
 "nbformat_minor": 5
}
