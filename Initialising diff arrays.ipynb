{
 "cells": [
  {
   "cell_type": "code",
   "execution_count": 3,
   "id": "e98894bf-9bbb-4018-8956-23291a130124",
   "metadata": {},
   "outputs": [],
   "source": [
    "import numpy as np"
   ]
  },
  {
   "cell_type": "code",
   "execution_count": 9,
   "id": "1bc89e88-7a41-44a6-9073-861ad91c9c1d",
   "metadata": {},
   "outputs": [
    {
     "name": "stdout",
     "output_type": "stream",
     "text": [
      "[[1 2 3]\n",
      " [4 5 6]]\n"
     ]
    }
   ],
   "source": [
    "a = np.array([[1,2,3],[4,5,6]])\n",
    "print(a)"
   ]
  },
  {
   "cell_type": "code",
   "execution_count": 11,
   "id": "d07a0633-03f4-4a01-9242-a15c364fc86e",
   "metadata": {},
   "outputs": [
    {
     "data": {
      "text/plain": [
       "array([[0., 0., 0.],\n",
       "       [0., 0., 0.]])"
      ]
     },
     "execution_count": 11,
     "metadata": {},
     "output_type": "execute_result"
    }
   ],
   "source": [
    "# Generating an array of zeroes\n",
    "np.zeros((2,3))"
   ]
  },
  {
   "cell_type": "code",
   "execution_count": 13,
   "id": "91aecb71-67ac-4e20-973a-c8a34376e0ff",
   "metadata": {},
   "outputs": [
    {
     "data": {
      "text/plain": [
       "array([[1., 1., 1., 1.],\n",
       "       [1., 1., 1., 1.],\n",
       "       [1., 1., 1., 1.]])"
      ]
     },
     "execution_count": 13,
     "metadata": {},
     "output_type": "execute_result"
    }
   ],
   "source": [
    "# Generating an array of ones\n",
    "np.ones((3,4))"
   ]
  },
  {
   "cell_type": "code",
   "execution_count": 15,
   "id": "043ec4d6-73ee-4ff8-ae10-dea7d8587a22",
   "metadata": {},
   "outputs": [
    {
     "data": {
      "text/plain": [
       "array([[7, 7],\n",
       "       [7, 7]])"
      ]
     },
     "execution_count": 15,
     "metadata": {},
     "output_type": "execute_result"
    }
   ],
   "source": [
    "# Generating an array of any number\n",
    "np.full((2,2),7)"
   ]
  },
  {
   "cell_type": "code",
   "execution_count": 17,
   "id": "f67793c8-ebf6-489d-a796-5e63a9a94ea0",
   "metadata": {},
   "outputs": [
    {
     "data": {
      "text/plain": [
       "array([[77, 77, 77],\n",
       "       [77, 77, 77]])"
      ]
     },
     "execution_count": 17,
     "metadata": {},
     "output_type": "execute_result"
    }
   ],
   "source": [
    "# Generating an array of any number with shape of some other array\n",
    "np.full(a.shape,77)"
   ]
  },
  {
   "cell_type": "code",
   "execution_count": 19,
   "id": "6e5e2bc0-513e-4e95-9c93-f1ad87390f3e",
   "metadata": {},
   "outputs": [
    {
     "data": {
      "text/plain": [
       "array([[[0.13655852, 0.97410508, 0.52012923, 0.4962818 , 0.81987883],\n",
       "        [0.30047612, 0.269803  , 0.91500218, 0.77516643, 0.88643685],\n",
       "        [0.06723199, 0.13772434, 0.20464413, 0.2070373 , 0.33987111]],\n",
       "\n",
       "       [[0.16989473, 0.22960723, 0.92060858, 0.41477811, 0.60358104],\n",
       "        [0.57278264, 0.09509982, 0.65338438, 0.6992619 , 0.01439804],\n",
       "        [0.1757004 , 0.32338206, 0.09857467, 0.51167684, 0.51792933]]])"
      ]
     },
     "execution_count": 19,
     "metadata": {},
     "output_type": "execute_result"
    }
   ],
   "source": [
    "# Generating an array of random decimal numbers\n",
    "np.random.rand(2,3,5)"
   ]
  },
  {
   "cell_type": "code",
   "execution_count": 21,
   "id": "5dea0bf4-c95b-4318-a457-a71e5693c763",
   "metadata": {},
   "outputs": [
    {
     "data": {
      "text/plain": [
       "array([[0.07399342, 0.56418247, 0.81367345],\n",
       "       [0.99561216, 0.09510805, 0.79226972]])"
      ]
     },
     "execution_count": 21,
     "metadata": {},
     "output_type": "execute_result"
    }
   ],
   "source": [
    "# Generating an array of random decimal numbers with shape of some other array\n",
    "np.random.random_sample(a.shape)"
   ]
  },
  {
   "cell_type": "code",
   "execution_count": 25,
   "id": "f76af39f-5de3-46e0-bdeb-2a493b36c050",
   "metadata": {},
   "outputs": [
    {
     "data": {
      "text/plain": [
       "array([[2, 1, 1],\n",
       "       [1, 1, 0],\n",
       "       [0, 2, 0]])"
      ]
     },
     "execution_count": 25,
     "metadata": {},
     "output_type": "execute_result"
    }
   ],
   "source": [
    "# Generating an array of random integers\n",
    "np.random.randint(3,size=(3,3))"
   ]
  },
  {
   "cell_type": "code",
   "execution_count": 43,
   "id": "3efd445c-a4bd-40da-b1ae-ad83abb38493",
   "metadata": {},
   "outputs": [
    {
     "data": {
      "text/plain": [
       "array([[-2,  3],\n",
       "       [ 0,  2]])"
      ]
     },
     "execution_count": 43,
     "metadata": {},
     "output_type": "execute_result"
    }
   ],
   "source": [
    "# Generating an array of random integers with specified range\n",
    "np.random.randint(-4,4,size=(2,2))"
   ]
  },
  {
   "cell_type": "code",
   "execution_count": 47,
   "id": "37fccc89-685e-4bff-8c40-f86f83c51b68",
   "metadata": {},
   "outputs": [
    {
     "data": {
      "text/plain": [
       "array([[1., 0., 0., 0., 0.],\n",
       "       [0., 1., 0., 0., 0.],\n",
       "       [0., 0., 1., 0., 0.],\n",
       "       [0., 0., 0., 1., 0.],\n",
       "       [0., 0., 0., 0., 1.]])"
      ]
     },
     "execution_count": 47,
     "metadata": {},
     "output_type": "execute_result"
    }
   ],
   "source": [
    "# Identity matrix\n",
    "np.identity(5)"
   ]
  },
  {
   "cell_type": "code",
   "execution_count": 51,
   "id": "0430fe03-b8f5-4a1d-a606-54ee28efde0f",
   "metadata": {},
   "outputs": [
    {
     "name": "stdout",
     "output_type": "stream",
     "text": [
      "[[1 2 3]\n",
      " [1 2 3]\n",
      " [1 2 3]]\n"
     ]
    }
   ],
   "source": [
    "# Repeat and array\n",
    "arr = np.array([[1,2,3]])\n",
    "r1 = np.repeat(arr,3,axis=0)\n",
    "print(r1)"
   ]
  },
  {
   "cell_type": "code",
   "execution_count": 53,
   "id": "7581623d-305c-4e1f-883c-e9f85973261f",
   "metadata": {},
   "outputs": [
    {
     "name": "stdout",
     "output_type": "stream",
     "text": [
      "[1 2 4]\n",
      "[ 1 23  4]\n"
     ]
    }
   ],
   "source": [
    "# Copying the arrays\n",
    "a = np.array([1,23,4])\n",
    "b = a.copy()\n",
    "b[1] = 2\n",
    "print(b)\n",
    "print(a)"
   ]
  }
 ],
 "metadata": {
  "kernelspec": {
   "display_name": "Python [conda env:base] *",
   "language": "python",
   "name": "conda-base-py"
  },
  "language_info": {
   "codemirror_mode": {
    "name": "ipython",
    "version": 3
   },
   "file_extension": ".py",
   "mimetype": "text/x-python",
   "name": "python",
   "nbconvert_exporter": "python",
   "pygments_lexer": "ipython3",
   "version": "3.12.7"
  }
 },
 "nbformat": 4,
 "nbformat_minor": 5
}
