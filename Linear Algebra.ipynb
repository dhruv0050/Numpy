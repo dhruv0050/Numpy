{
 "cells": [
  {
   "cell_type": "code",
   "execution_count": 4,
   "id": "98cefa4c-3a10-4f4f-b347-6195a6500769",
   "metadata": {},
   "outputs": [],
   "source": [
    "import numpy as np"
   ]
  },
  {
   "cell_type": "code",
   "execution_count": 32,
   "id": "55ae430f-0114-4dbf-bd2f-c9ab834ca7ae",
   "metadata": {},
   "outputs": [],
   "source": [
    "a = np.ones((2,3))\n",
    "b = np.full((3,2),80)\n",
    "c = np.identity(3)\n",
    "d = np.full((3,3),11)"
   ]
  },
  {
   "cell_type": "code",
   "execution_count": 34,
   "id": "24669457-ab34-43dc-bc9b-2df268f6623e",
   "metadata": {},
   "outputs": [
    {
     "data": {
      "text/plain": [
       "array([[240., 240.],\n",
       "       [240., 240.]])"
      ]
     },
     "execution_count": 34,
     "metadata": {},
     "output_type": "execute_result"
    }
   ],
   "source": [
    "# Matrix Multiplication\n",
    "np.matmul(a,b)"
   ]
  },
  {
   "cell_type": "code",
   "execution_count": 38,
   "id": "f31e3e56-9294-4657-90e9-f5637c149c84",
   "metadata": {},
   "outputs": [
    {
     "name": "stdout",
     "output_type": "stream",
     "text": [
      "Determinant of matrix c:  1.0\n",
      "Determinant of matrix multiplicated matrix of c & d:  0.0\n"
     ]
    }
   ],
   "source": [
    "# Determinant of a matrix\n",
    "x = np.matmul(c,d)\n",
    "print(\"Determinant of matrix c: \",np.linalg.det(c))\n",
    "print(\"Determinant of matrix multiplicated matrix of c & d: \",np.linalg.det((np.matmul(c,d))))"
   ]
  },
  {
   "cell_type": "code",
   "execution_count": 44,
   "id": "7858bc79-2b80-4c17-bf33-4bc54e1c19bd",
   "metadata": {},
   "outputs": [
    {
     "data": {
      "text/plain": [
       "array([[1., 0., 0.],\n",
       "       [0., 1., 0.],\n",
       "       [0., 0., 1.]])"
      ]
     },
     "execution_count": 44,
     "metadata": {},
     "output_type": "execute_result"
    }
   ],
   "source": [
    "# Inverse of a matrix\n",
    "np.linalg.inv(c)"
   ]
  },
  {
   "cell_type": "code",
   "execution_count": 48,
   "id": "bd584dde-5fea-4ca3-afe9-a990c28d3794",
   "metadata": {},
   "outputs": [
    {
     "data": {
      "text/plain": [
       "EigResult(eigenvalues=array([1., 1., 1.]), eigenvectors=array([[1., 0., 0.],\n",
       "       [0., 1., 0.],\n",
       "       [0., 0., 1.]]))"
      ]
     },
     "execution_count": 48,
     "metadata": {},
     "output_type": "execute_result"
    }
   ],
   "source": [
    "# Eigenvalues and EigenVectors\n",
    "np.linalg.eig(c)"
   ]
  },
  {
   "cell_type": "code",
   "execution_count": 50,
   "id": "6f1281d8-d0fe-47be-83cb-8213a3416335",
   "metadata": {},
   "outputs": [
    {
     "data": {
      "text/plain": [
       "33"
      ]
     },
     "execution_count": 50,
     "metadata": {},
     "output_type": "execute_result"
    }
   ],
   "source": [
    "# Trace of a matrix\n",
    "np.trace(d)"
   ]
  },
  {
   "cell_type": "code",
   "execution_count": 54,
   "id": "3f2e8a77-7a64-43d3-8f2a-0b5859a852f0",
   "metadata": {},
   "outputs": [
    {
     "data": {
      "text/plain": [
       "2.449489742783178"
      ]
     },
     "execution_count": 54,
     "metadata": {},
     "output_type": "execute_result"
    }
   ],
   "source": [
    "# Matrix Norm - computes the magnitude or length of a matrix\n",
    "np.linalg.norm(a)"
   ]
  }
 ],
 "metadata": {
  "kernelspec": {
   "display_name": "Python [conda env:base] *",
   "language": "python",
   "name": "conda-base-py"
  },
  "language_info": {
   "codemirror_mode": {
    "name": "ipython",
    "version": 3
   },
   "file_extension": ".py",
   "mimetype": "text/x-python",
   "name": "python",
   "nbconvert_exporter": "python",
   "pygments_lexer": "ipython3",
   "version": "3.12.7"
  }
 },
 "nbformat": 4,
 "nbformat_minor": 5
}
